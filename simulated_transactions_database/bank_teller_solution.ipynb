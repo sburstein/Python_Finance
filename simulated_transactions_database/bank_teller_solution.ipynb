{
 "cells": [
  {
   "cell_type": "markdown",
   "metadata": {},
   "source": [
    "# Bank Teller Solution\n"
   ]
  },
  {
   "cell_type": "markdown",
   "metadata": {},
   "source": [
    "In this project you will be implementing code that emulates transactions performed between a bank-teller and a customer."
   ]
  },
  {
   "cell_type": "markdown",
   "metadata": {},
   "source": [
    "The prerequisites for this project are Python 3 syntax, functions and control flow. Let's jump right into it!"
   ]
  },
  {
   "cell_type": "markdown",
   "metadata": {},
   "source": [
    "### 1. Initializing savings and checking account values. \n",
    "\n",
    "Creates two variables, one named `checking_balance` and the other `savings_balance`. Assign them both the value of zero. Use these as your starting bank balances."
   ]
  },
  {
   "cell_type": "code",
   "execution_count": 1,
   "metadata": {
    "ExecuteTime": {
     "end_time": "2020-07-15T13:51:28.039497Z",
     "start_time": "2020-07-15T13:51:28.017525Z"
    }
   },
   "outputs": [],
   "source": [
    "#initial checking_account_balance\n",
    "checking_balance = 0\n",
    "\n",
    "#initial saving_account_balance\n",
    "savings_balance = 0"
   ]
  },
  {
   "cell_type": "markdown",
   "metadata": {},
   "source": [
    "### 2. Create a function to check the Balance\n",
    "\n",
    "##### step 1. Check account_type and return the respective balance\n",
    "    \n",
    "Define a function named `check_balance()` that accepts three parameters `account_type`, `checking_balance` and `savings_balance`. `account_type` represents a string which can either be `\"savings\"` or `\"checking\"`. `checking_balance` and `savings_balance`represent the respective number balances.\n",
    "   \n",
    "#####  step 2. Check account_type and return the respective balance\n",
    "    \n",
    "Within the function named `check_balance()`, create an if...elif...else statement. Within each if statement return the customers balance based on the type of `account_type` they requested.\n",
    "   \n",
    "##### step 3. Assigning the savings_balance\n",
    "   \n",
    "Within the first `if` statement use an equal operator to check whether `account_type` is the same as `\"savings\"`. If that is true, set the new variable `balance` to the value of `savings_balance`.\n",
    "   \n",
    "##### step 4. Assigning the checking_balance\n",
    "   \n",
    "Within the second `elif` statement use an equal operator to check whether `account_type` is the same as `\"checking\"`. If that is true, set the variable `balance` to the value of `checking_balance`.\n",
    "   \n",
    "##### step 5. Return an error statement if there are no matching account_type\n",
    "   \n",
    "Within the `else` statement, return an error statement given that there were no matches for the previous `if...elif` statements. Within the else statement, `return` `\"Unsuccessful, please enter \\\"checking\\\" or \\\"savings\\\"\"`\n",
    "   \n",
    "##### step 6. Create a balance statement\n",
    "   \n",
    "Under the `if` statements, create a new variable called `balance_statement` and assign it a value that consists of strings and variables. Concatenate the variables `account_type` and `balance` into the account statement. Remember to cast `balance` to a string using `str()` in the statement. The statement should be: \"Your `account_type` balance is `balance`\".\n",
    "   \n",
    "##### step 7. Return balance statement\n",
    "   \n",
    "Under the `balance_statement` assignment, close out the `check_balance()` function by adding a `return` statement that returns the `balance_statement` variable. "
   ]
  },
  {
   "cell_type": "code",
   "execution_count": 2,
   "metadata": {
    "ExecuteTime": {
     "end_time": "2020-07-15T13:51:28.047628Z",
     "start_time": "2020-07-15T13:51:28.042411Z"
    }
   },
   "outputs": [],
   "source": [
    "#check_balance definition\n",
    "def check_balance(account_type, checking_balance, savings_balance):\n",
    "    if account_type == \"savings\":\n",
    "        balance = savings_balance \n",
    "    elif account_type == \"checking\":\n",
    "        balance = checking_balance\n",
    "    else:\n",
    "        return acc_error\n",
    "    balance_statement = \"Your \" + account_type + \" balance is \" + str(balance) + \".\\n\"\n",
    "    return balance_statement"
   ]
  },
  {
   "cell_type": "markdown",
   "metadata": {},
   "source": [
    "### 3. Calling and Printing the check_balance() function for Checking Account"
   ]
  },
  {
   "cell_type": "markdown",
   "metadata": {},
   "source": [
    "Now that you have completed the `check_balance()` function, call it inside a `print()` function. Call the `check_balance()` function with these arguments; `\"checking\"`, `checking_balance` and `savings_balance`. The latter two were already initialized at the start of the project. Your checking balance should print."
   ]
  },
  {
   "cell_type": "code",
   "execution_count": 3,
   "metadata": {
    "ExecuteTime": {
     "end_time": "2020-07-15T13:51:28.057550Z",
     "start_time": "2020-07-15T13:51:28.050659Z"
    }
   },
   "outputs": [
    {
     "name": "stdout",
     "output_type": "stream",
     "text": [
      "Your checking balance is 0.\n",
      "\n"
     ]
    }
   ],
   "source": [
    "#check checking balance call\n",
    "print(check_balance(\"checking\",checking_balance,savings_balance))"
   ]
  },
  {
   "cell_type": "markdown",
   "metadata": {},
   "source": [
    "### 4. Calling and Printing the check_balance() function for Savings Account"
   ]
  },
  {
   "cell_type": "markdown",
   "metadata": {},
   "source": [
    "On the next line, inside a `print()` function call the `check_balance()` function with these arguments; `\"savings\"`, `checking_balance` and `savings_balance`. Your savings balance should print. "
   ]
  },
  {
   "cell_type": "code",
   "execution_count": 4,
   "metadata": {
    "ExecuteTime": {
     "end_time": "2020-07-15T13:51:28.080350Z",
     "start_time": "2020-07-15T13:51:28.075764Z"
    }
   },
   "outputs": [
    {
     "name": "stdout",
     "output_type": "stream",
     "text": [
      "Your savings balance is 0.\n",
      "\n"
     ]
    }
   ],
   "source": [
    "#check savings balance call\n",
    "print(check_balance(\"savings\",checking_balance,savings_balance))"
   ]
  },
  {
   "cell_type": "markdown",
   "metadata": {},
   "source": [
    "### 5. Create a function to make a deposit\n",
    "\n",
    "##### step 1. define function\n",
    "Define a function named `make_deposit()` that accepts four parameters `account_type`, `amount`, `checking_balance` and `savings_balance`. The `amount` represents the amount to be deposited. \n",
    "  \n",
    "##### step 2. Initialize deposit_status variable\n",
    "Inside the deposit function, start by creating a variable named `deposit_status` and assign it to a an empty string\n",
    "   \n",
    "##### step 3. Ensure deposit is greater than 0 \n",
    "Write an if statement that checks whether the passed in `amount` is greater than 0. Step 5 will continue putting code inside this `if` statement if `amount` is greater than 0.\n",
    "\n",
    "##### step 4. Error if amount is less than 0\n",
    "Write a corresponding `else` statement if the `if` statement fails. Within that `else`, assign the variable `deposit_status` to the string value `\"unsuccessful, please enter an amount greater than 0\"`\n",
    "  \n",
    "##### step 5. Checking account_type\n",
    "Within the `if` statement that ensures that the amount is greater than 0, write inner `if...elif...else` statements. Within each if statement add the passed in `amount` to the customers balance based on the type of `account_type` they requested and also set `deposit_status` to `\"successful\"` or an error message. \n",
    "  \n",
    "##### step 6. Deposit to Savings account\n",
    "Within the first nested `if` statement check whether `account_type` is equivalent to `\"savings\"`. Then within this `if` statement on the next line add `amount` to `savings_balance` using the `+=` assignment operator. On the next line assign the string value `\"successful\"` to the variable `deposit_status`.\n",
    "  \n",
    "##### step 7. Deposit to Checking account\n",
    "Within the next nested `elif` statement check whether `account_type` is equivalent to `\"checking\"`. Then within this `elif` statement on the next line add `amount` to `checking_balance` using the `+=` assignment operator. On the next line assign the string value `\"successful\"` to the variable `deposit_status`.\n",
    "  \n",
    "##### step 8. Assign an error statement if there are no matching account_type\n",
    "Within the next nested `else` statement, assign the string value `\"Unsuccessful, please enter \\\"checking\\\" or \\\"savings\\\"\"` to the variable `deposit_status`.\n",
    "  \n",
    "##### step 9. Create a deposit statement\n",
    "Outside of all the `if` statements but still in the function, compose a statement composing of strings and variables used in this function. Then assign it to the new `deposit_statement` variable. The statement should be: \"Deposit of `amount` to your `account_type` account was `deposit_status`\". \n",
    "\n",
    "##### step 10. Print deposit statement\n",
    "On the next line, write a print statement with the `deposit_statement` as an argument. This will print the deposit statement anytime the deposit function is called. \n",
    "\n",
    "##### step 11. Return savings_balance and checking_balance\n",
    "On the next line return both the `savings_balance` and `checking_balance`. This will conclude the `make_deposit()` function."
   ]
  },
  {
   "cell_type": "code",
   "execution_count": 5,
   "metadata": {
    "ExecuteTime": {
     "end_time": "2020-07-15T13:51:28.149047Z",
     "start_time": "2020-07-15T13:51:28.142963Z"
    }
   },
   "outputs": [],
   "source": [
    "#deposit function\n",
    "def make_deposit(account_type,amount,checking_balance,savings_balance):\n",
    "    deposit_status = \"\"\n",
    "    if amount > 0:\n",
    "        if account_type == \"savings\":\n",
    "            savings_balance += amount\n",
    "            deposit_status = \"successful\"\n",
    "        elif account_type == \"checking\":\n",
    "            checking_balance += amount\n",
    "            deposit_status = \"successful\"\n",
    "        else:\n",
    "            deposit_status = acc_error\n",
    "    else:\n",
    "        deposit_status = \"Unsuccessful, please enter an amount greater than 0\"\n",
    "    \n",
    "    deposit_statement = \"Deposit of \"+ str(amount) + \" dollars to your \" + account_type + \" account was \" + deposit_status + \".\"\n",
    "\n",
    "    #print deposit statement\n",
    "    print(deposit_statement)\n",
    "    \n",
    "    return savings_balance, checking_balance"
   ]
  },
  {
   "cell_type": "markdown",
   "metadata": {},
   "source": [
    "### 6. Call deposit function and make a savings deposit\n",
    "\n",
    "On the next line, call the `make_deposit()` function with these arguments; `\"savings\"`, `10`,`checking_balance` and `savings_balance`. Assign the function call to the matching `checking_balance` and `savings_balance` variables that are also being returned by the function. That is how the new balances are being updated. "
   ]
  },
  {
   "cell_type": "code",
   "execution_count": 6,
   "metadata": {
    "ExecuteTime": {
     "end_time": "2020-07-15T13:51:28.174711Z",
     "start_time": "2020-07-15T13:51:28.171640Z"
    }
   },
   "outputs": [
    {
     "name": "stdout",
     "output_type": "stream",
     "text": [
      "Deposit of 10 dollars to your savings account was successful.\n"
     ]
    }
   ],
   "source": [
    "#update bank account after savings deposit\n",
    "savings_balance, checking_balance = make_deposit(\"savings\",10,checking_balance,savings_balance)"
   ]
  },
  {
   "cell_type": "markdown",
   "metadata": {},
   "source": [
    "### 7. Print savings balance call after making a savings deposit\n",
    "\n",
    "Now that a deposit has been made to the savings account, print your savings balance. Call the `check_balance()` function with these arguments; `\"savings\"`, `checking_balance` and `savings_balance` within a print function. Your new savings balance should print."
   ]
  },
  {
   "cell_type": "code",
   "execution_count": 7,
   "metadata": {
    "ExecuteTime": {
     "end_time": "2020-07-15T13:51:28.205082Z",
     "start_time": "2020-07-15T13:51:28.202105Z"
    }
   },
   "outputs": [
    {
     "name": "stdout",
     "output_type": "stream",
     "text": [
      "Your savings balance is 10.\n",
      "\n"
     ]
    }
   ],
   "source": [
    "#check savings balance call after deposit\n",
    "print(check_balance(\"savings\",checking_balance,savings_balance))"
   ]
  },
  {
   "cell_type": "markdown",
   "metadata": {},
   "source": [
    "### 8. Call deposit function and make a checking deposit\n",
    "\n",
    "On the next line, call the `make_deposit()` function with these arguments; `\"checking\"`, `200`,`checking_balance` and `savings_balance`. Assign the function call to the matching `checking_balance` and `savings_balance` variables that are also being returned by the function. "
   ]
  },
  {
   "cell_type": "code",
   "execution_count": 8,
   "metadata": {
    "ExecuteTime": {
     "end_time": "2020-07-15T13:51:28.231011Z",
     "start_time": "2020-07-15T13:51:28.228079Z"
    }
   },
   "outputs": [
    {
     "name": "stdout",
     "output_type": "stream",
     "text": [
      "Deposit of 200 dollars to your checking account was successful.\n"
     ]
    }
   ],
   "source": [
    "#update bank account after checking deposit\n",
    "savings_balance, checking_balance = make_deposit(\"checking\",200,checking_balance,savings_balance)"
   ]
  },
  {
   "cell_type": "markdown",
   "metadata": {},
   "source": [
    "### 9. Print checking balance call after making a checking deposit\n",
    "\n",
    "Now that a deposit has been made to the checking account, print our new checking balance. Call the `check_balance()` function with these arguments; `\"checking\"`, `checking_balance` and `savings_balance` within a print function. Your new checking balance should print."
   ]
  },
  {
   "cell_type": "code",
   "execution_count": 9,
   "metadata": {
    "ExecuteTime": {
     "end_time": "2020-07-15T13:51:28.252235Z",
     "start_time": "2020-07-15T13:51:28.249382Z"
    }
   },
   "outputs": [
    {
     "name": "stdout",
     "output_type": "stream",
     "text": [
      "Your checking balance is 200.\n",
      "\n"
     ]
    }
   ],
   "source": [
    "#check checking balance call after deposit\n",
    "print(check_balance(\"checking\",checking_balance,savings_balance))"
   ]
  },
  {
   "cell_type": "markdown",
   "metadata": {},
   "source": [
    "### 10. Create a function to make a withdrawal\n",
    "\n",
    "##### step 1. define function\n",
    "Define a function named `make_withdrawal()` that accepts four parameters `account_type`, `amount`, `checking_balance` and `savings_balance`. The `amount` represents the withdrawal amount. \n",
    "\n",
    "##### step 2. Initialize withdrawal_status variable\n",
    "Inside the withdrawal function, start by creating a variable named `withdrawal_status` and assign it to an empty string. \n",
    "\n",
    "##### step 3. Initialize an error message\n",
    "On the next line create a variable named `fail` and assign it to the value `\"unsuccessful, please enter amount less than balance\"` \n",
    "\n",
    "##### step 4. Checking account_type\n",
    "Write `if...elif...else` statements. Within each if statement check whether the `account_type` is equivalent to `savings_balance` or `checking_balance`. If neither, throw an error in the else statement.\n",
    "\n",
    "##### step 5. Withdrawal from savings account\n",
    "The first `if` statement should check whether `account_type` is equivalent to `\"savings\"`. \n",
    "\n",
    "##### step 6. Ensure withdrawal is less than savings account\n",
    "Then write an inner `if...else` that checks if the withdrawal amount is greater than the savings balance. If the amount is indeed greater, in the else statement, assign `withdrawal_status` to the variable `fail`.\n",
    "\n",
    "##### step 7. Subtract amount from savings account\n",
    "Within the inner `if` statement, subtract `amount` from the `savings_balance` using the `-=` assignment operator. On the next line assign the string value `\"successful\"` to the variable `withdrawal_status`. \n",
    "\n",
    "##### step 8. Withdrawal from checking account\n",
    "The next `elif` statement should check whether `account_type` is equivalent to `\"checking\"`. \n",
    "\n",
    "##### step 9. Ensure withdrawal is less than checking account\n",
    "Then write an inner `if...else` that checks if the withdrawal amount is greater than the checking balance. If the amount is indeed greater, in the else statement, assign `withdrawal_status` to the variable `fail`.\n",
    "\n",
    "##### step 10. Subtract amount from checking account\n",
    "Within the inner `if` statement, subtract `amount` from the `checking_balance` using the `-=` assignment operator. On the next line assign the string value `\"successful\"` to the variable `withdrawal_status`. \n",
    "\n",
    "##### step 11. Assign an error statement if there are no matching account_type\n",
    "Within the last `else` statement, assign the string value `\"unsuccessful, please enter \\\"checking\\\" or \\\"savings\\\"\"` to the variable `withdrawal_status`.\n",
    "\n",
    "##### step 12. Create a withdrawal statement\n",
    "Outside of all the `if` statements but still in the function, create a statement composing of strings and variables used in this function. Then assign it to the new `withdrawal_statement` variable. The withdrawal statement should be: \"Withdrawal of `amount` from your `account_type` was `withdrawal_status`\". \n",
    "\n",
    "##### step 13. Print withdrawal statement\n",
    "On the next line, write a print statement with the `withdrawal_statement` as an argument. This will print the withdrawal statement anytime the deposit function is called. \n",
    "\n",
    "##### step 14. Return savings_balance and checking_balance\n",
    "On the next line return both the `savings_balance` and `checking_balance`. This will conclude the `make_withdrawal()` function."
   ]
  },
  {
   "cell_type": "code",
   "execution_count": 10,
   "metadata": {
    "ExecuteTime": {
     "end_time": "2020-07-15T13:51:28.365248Z",
     "start_time": "2020-07-15T13:51:28.359057Z"
    }
   },
   "outputs": [],
   "source": [
    "#withdrawal function\n",
    "def make_withdrawal(account_type,amount,checking_balance,savings_balance):\n",
    "    withdrawal_status = \"\"\n",
    "    fail = \"unsuccessful, please enter amount less than balance\"\n",
    "    if account_type == \"savings\":\n",
    "        if amount <= savings_balance:\n",
    "            savings_balance -= amount\n",
    "            withdrawal_status = \"successful\"\n",
    "        else:\n",
    "            withdrawal_status = fail\n",
    "    elif account_type == \"checking\":\n",
    "        if amount <= checking_balance:\n",
    "            checking_balance -= amount\n",
    "            withdrawal_status = \"successful\"\n",
    "        else:\n",
    "            withdrawal_status = fail\n",
    "    else:\n",
    "        withdrawal_status = acc_error\n",
    "    \n",
    "    withdrawal_statement = \"Withdrawal of \"+ str(amount) + \" from your \" + account_type + \" account was \" + withdrawal_status + \".\"\n",
    "\n",
    "    #print withdrawal statement\n",
    "    print(withdrawal_statement)\n",
    "    \n",
    "    return savings_balance, checking_balance "
   ]
  },
  {
   "cell_type": "markdown",
   "metadata": {},
   "source": [
    "### 11. Call withdrawal function and make a savings withdrawal\n",
    "\n",
    "On the next line, call the `make_withdrawal()` function with these arguments: `\"savings\"`, `11`,`checking_balance` and `savings_balance`. Assign the function call to the matching `checking_balance` and `savings_balance` variables that are also being returned by the function. That is how the new balances are being updated. "
   ]
  },
  {
   "cell_type": "code",
   "execution_count": 11,
   "metadata": {
    "ExecuteTime": {
     "end_time": "2020-07-15T13:51:28.398100Z",
     "start_time": "2020-07-15T13:51:28.393134Z"
    }
   },
   "outputs": [
    {
     "name": "stdout",
     "output_type": "stream",
     "text": [
      "Withdrawal of 11 from your savings account was unsuccessful, please enter amount less than balance.\n"
     ]
    }
   ],
   "source": [
    "#update bank account after savings withdrawal\n",
    "savings_balance, checking_balance = make_withdrawal(\"savings\",11,checking_balance,savings_balance)"
   ]
  },
  {
   "cell_type": "markdown",
   "metadata": {},
   "source": [
    "### 12. Print savings balance call, after making a savings withdrawal\n",
    "\n",
    "Now that a withdrawal has been made from the savings account, print our savings balance. Call the `check_balance()` function with these arguments; `\"savings\"`, `checking_balance` and `savings_balance` within a print function. Your new savings balance should print. "
   ]
  },
  {
   "cell_type": "code",
   "execution_count": 12,
   "metadata": {
    "ExecuteTime": {
     "end_time": "2020-07-15T13:51:28.408501Z",
     "start_time": "2020-07-15T13:51:28.405819Z"
    }
   },
   "outputs": [
    {
     "name": "stdout",
     "output_type": "stream",
     "text": [
      "Your savings balance is 10.\n",
      "\n"
     ]
    }
   ],
   "source": [
    "#check savings balance call after deposit\n",
    "print(check_balance(\"savings\",checking_balance,savings_balance))"
   ]
  },
  {
   "cell_type": "markdown",
   "metadata": {},
   "source": [
    "### 13. Call withdrawal function and make a checking withdrawal\n",
    "\n",
    "On the next line, call the `make_withdrawal()` function with these arguments; `\"checking\"`, `170`,`checking_balance` and `savings_balance`. Assign the function call to the matching `checking_balance` and `savings_balance` variables that are also being returned by the function. That is how the new balances are being updated. "
   ]
  },
  {
   "cell_type": "code",
   "execution_count": 13,
   "metadata": {
    "ExecuteTime": {
     "end_time": "2020-07-15T13:51:28.432310Z",
     "start_time": "2020-07-15T13:51:28.429708Z"
    }
   },
   "outputs": [
    {
     "name": "stdout",
     "output_type": "stream",
     "text": [
      "Withdrawal of 170 from your checking account was successful.\n"
     ]
    }
   ],
   "source": [
    "#update bank account after checking withdrawal\n",
    "savings_balance, checking_balance = make_withdrawal(\"checking\",170,checking_balance,savings_balance)"
   ]
  },
  {
   "cell_type": "markdown",
   "metadata": {},
   "source": [
    "### 14. Print checking balance call, after making a checking withdrawal\n",
    "\n",
    "Now that a withdrawal has been made from the checking account, print our checking balance. Call the `check_balance()` function with these arguments; `\"checking\"`, `checking_balance` and `savings_balance` within a print function. Your new checking balance should print. "
   ]
  },
  {
   "cell_type": "code",
   "execution_count": 14,
   "metadata": {
    "ExecuteTime": {
     "end_time": "2020-07-15T13:51:28.454425Z",
     "start_time": "2020-07-15T13:51:28.451154Z"
    }
   },
   "outputs": [
    {
     "name": "stdout",
     "output_type": "stream",
     "text": [
      "Your checking balance is 30.\n",
      "\n"
     ]
    }
   ],
   "source": [
    "#check savings balance call after deposit\n",
    "print(check_balance(\"checking\",checking_balance,savings_balance))"
   ]
  },
  {
   "cell_type": "markdown",
   "metadata": {},
   "source": [
    "### 15. Create a function to make a transfer between accounts\n",
    "\n",
    "##### step 1. define function\n",
    "Define a function named `acc_transfer()` that accepts five parameters `acc_from`, `acc_to`, `amount`, `checking_balance` and `savings_balance`.\n",
    "\n",
    "##### step 2. Initialize transaction_status variable\n",
    "Inside the transfer function, start by creating a variable named `transaction_status` and assign it to a an empty string. \n",
    "\n",
    "##### step 3. Initialize an error message\n",
    "On the next line create a variable named `trans_error` and assign it to the value `\"unsuccessful, please enter amount less than \"` \n",
    "\n",
    "##### step 4. Account Transfer\n",
    "Write `if...elif...else` statements. The `if` statement will check if the transfer is from savings to checking account. The `elif` statement will check if the transfer is from checking to savings account. If neither, throw an error in the else statement.\n",
    "\n",
    "##### step 5. Ensure transfer is less than savings account\n",
    "Within the first `if` statement, write an inner `if...else` that checks if the transfer amount is greater than the savings balance. If the amount is indeed greater, in the else statement, assign `transaction_status` to the variable `trans_error` + `str(savings_balance)`.\n",
    "\n",
    "##### step 6. Transfer amount from savings to checking account\n",
    "Within the inner `if` statement, subtract `amount` from the `savings_balance` using the `-=` assignment operator. On the next line, add `amount` to the `checking_balance` using the `+=` assignment operator. Then on the next line assign the string value `\"successful\"` to the variable `transaction_status`. \n",
    "\n",
    "##### step 7. Ensure transfer is less than checking account\n",
    "Within the following `elif` statement, write an inner `if...else` that checks if the transfer amount is greater than the checking balance. If the amount is indeed greater, in the else statement, assign `transaction_status` to the variable `trans_error` + `str(checking_balance)`.\n",
    "\n",
    "##### step 8. Transfer amount from checking to savings  account\n",
    "Within the inner `if` statement, subtract `amount` from the `checking_balance` using the `-=` assignment operator. On the next line, add `amount` to the `savings_balance` using the `+=` assignment operator. Then on the next line assign the string value `\"successful\"` to the variable `transaction_status`. \n",
    "\n",
    "##### step 9. Assign an error statement if there are no matching account_type\n",
    "Within the last `else` statement, assign the string value `\"unsuccessful, please enter \\\"checking\\\" or \\\"savings\\\"\"` to the variable `transaction_status`.\n",
    "\n",
    "##### step 10. Create a transfer statement\n",
    "Outside of all the `if` statements but still in the function, compose a statement composing of strings and variables used in this function. Then assign it to the new `transaction_statement` variable. The transfer statement should be; \"Transfer of `amount` from your `cc_from` to your `acc_to` account was `transaction_status`\".\n",
    "\n",
    "##### step 11. Print transfer statement\n",
    "On the next line, write a print statement with the `transaction_statement` as an argument. This will print the transfer statement anytime the transfer function is called. \n",
    "\n",
    "##### step 12. Return savings_balance and checking_balance\n",
    "On the next line return both the `savings_balance` and `checking_balance`. This will conclude the `acc_transfer()` function."
   ]
  },
  {
   "cell_type": "code",
   "execution_count": 15,
   "metadata": {
    "ExecuteTime": {
     "end_time": "2020-07-15T13:51:28.522928Z",
     "start_time": "2020-07-15T13:51:28.518746Z"
    }
   },
   "outputs": [],
   "source": [
    "#account transfer\n",
    "def acc_transfer(acc_from,acc_to,amount,checking_balance,savings_balance):\n",
    "    transaction_status = \"\"\n",
    "    trans_error = \"unsuccessful, please enter amount less than \"\n",
    "    if acc_from == \"savings\" and acc_to == \"checking\":\n",
    "        if amount <= savings_balance:\n",
    "            savings_balance -= amount\n",
    "            checking_balance += amount\n",
    "            transaction_status = \"successful\"\n",
    "        else:\n",
    "            transaction_status = trans_error + str(savings_balance)\n",
    "    elif acc_from == \"checking\" and acc_to == \"savings\":\n",
    "        if amount <= checking_balance:\n",
    "            checking_balance -= amount\n",
    "            savings_balance += amount\n",
    "            transaction_status = \"successful\"\n",
    "        else:\n",
    "            transaction_status = trans_error + str(checking_balance)\n",
    "    else:\n",
    "        transaction_status = acc_error\n",
    "    \n",
    "    transaction_statement = \"Transfer of \"+ str(amount) + \" from your \" + acc_from + \" to your \"+ acc_to +\" account was \" + transaction_status + \".\"\n",
    "\n",
    "    #print transfer statement\n",
    "    print(transaction_statement)\n",
    "\n",
    "    return savings_balance, checking_balance"
   ]
  },
  {
   "cell_type": "markdown",
   "metadata": {},
   "source": [
    "### 16. Call transfer function and make a checking to savings transfer\n",
    "\n",
    "On the next line, call the `acc_transfer()` function with these arguments; `\"checking\"`, `\"savings\"`, `30`,`checking_balance` and `savings_balance`. Assign the function call to the matching `checking_balance` and `savings_balance` variables that are also being returned by the function. "
   ]
  },
  {
   "cell_type": "code",
   "execution_count": 16,
   "metadata": {
    "ExecuteTime": {
     "end_time": "2020-07-15T13:51:28.545660Z",
     "start_time": "2020-07-15T13:51:28.541744Z"
    }
   },
   "outputs": [
    {
     "name": "stdout",
     "output_type": "stream",
     "text": [
      "Transfer of 40 from your checking to your savings account was unsuccessful, please enter amount less than 30.\n"
     ]
    }
   ],
   "source": [
    "#update bank account after transfer checking to savings\n",
    "savings_balance, checking_balance = acc_transfer(\"checking\",\"savings\",40,checking_balance,savings_balance)"
   ]
  },
  {
   "cell_type": "markdown",
   "metadata": {},
   "source": [
    "### 17. Print checking balance after making a checking to savings transfer\n",
    "\n",
    "Now that a transfer has been made from the checking to savings account, print your checking balance. Call the `check_balance()` function with these arguments; `\"checking\"`, `checking_balance` and `savings_balance` within a print function. Your new checking balance should print. "
   ]
  },
  {
   "cell_type": "code",
   "execution_count": 17,
   "metadata": {
    "ExecuteTime": {
     "end_time": "2020-07-15T13:51:28.571894Z",
     "start_time": "2020-07-15T13:51:28.569093Z"
    }
   },
   "outputs": [
    {
     "name": "stdout",
     "output_type": "stream",
     "text": [
      "Your checking balance is 30.\n",
      "\n"
     ]
    }
   ],
   "source": [
    "#check checking balance call after transfer\n",
    "print(check_balance(\"checking\",checking_balance,savings_balance))"
   ]
  },
  {
   "cell_type": "markdown",
   "metadata": {},
   "source": [
    "### 18. Print savings balance after making a checking to savings transfer\n",
    "\n",
    "Now that a transfer has been made from the checking to savings account, print your savings balance. Call the `check_balance()` function with these arguments; `\"savings\"`, `checking_balance` and `savings_balance` within a print function. Your new savings balance should print. "
   ]
  },
  {
   "cell_type": "code",
   "execution_count": 18,
   "metadata": {
    "ExecuteTime": {
     "end_time": "2020-07-15T13:51:28.594711Z",
     "start_time": "2020-07-15T13:51:28.591609Z"
    }
   },
   "outputs": [
    {
     "name": "stdout",
     "output_type": "stream",
     "text": [
      "Your savings balance is 10.\n",
      "\n"
     ]
    }
   ],
   "source": [
    "#check savings balance call after deposit\n",
    "print(check_balance(\"savings\",checking_balance,savings_balance))"
   ]
  },
  {
   "cell_type": "markdown",
   "metadata": {},
   "source": [
    "### 19. Call transfer function and make a savings to checking transfer\n",
    "\n",
    "On the next line, call the `acc_transfer()` function with these arguments; `\"savings\"`, `\"checking\"`, `5`,`checking_balance` and `savings_balance`. Assign the function call to the matching `checking_balance` and `savings_balance` variables that are also being returned by the function. That is how the new balances are being updated.\n"
   ]
  },
  {
   "cell_type": "code",
   "execution_count": 19,
   "metadata": {
    "ExecuteTime": {
     "end_time": "2020-07-15T13:51:28.616745Z",
     "start_time": "2020-07-15T13:51:28.613343Z"
    }
   },
   "outputs": [
    {
     "name": "stdout",
     "output_type": "stream",
     "text": [
      "Transfer of 5 from your savings to your checking account was successful.\n"
     ]
    }
   ],
   "source": [
    "#update bank account after transfer savings to checking\n",
    "savings_balance, checking_balance = acc_transfer(\"savings\",\"checking\",5,checking_balance,savings_balance)"
   ]
  },
  {
   "cell_type": "markdown",
   "metadata": {},
   "source": [
    "### 20. Print checking balance after making a savings to checking transfer\n",
    "\n",
    "Now that a transfer has been made from the savings to checking account, print your checking balance. Call the `check_balance()` function with these arguments; `\"checking\"`, `checking_balance` and `savings_balance` within a print function. Your new checking balance should print."
   ]
  },
  {
   "cell_type": "code",
   "execution_count": 20,
   "metadata": {
    "ExecuteTime": {
     "end_time": "2020-07-15T13:51:28.636689Z",
     "start_time": "2020-07-15T13:51:28.633726Z"
    }
   },
   "outputs": [
    {
     "name": "stdout",
     "output_type": "stream",
     "text": [
      "Your checking balance is 35.\n",
      "\n"
     ]
    }
   ],
   "source": [
    "#check savings balance call after transfer\n",
    "print(check_balance(\"checking\",checking_balance,savings_balance))"
   ]
  },
  {
   "cell_type": "markdown",
   "metadata": {},
   "source": [
    "### 21. Print saving balance after making a savings to checking transfer\n",
    "\n",
    "Now that a transfer has been made from the savings to checking account, print your saving balance. Call the `check_balance()` function with these arguments; `\"savings\"`, `checking_balance` and `savings_balance` within a print function. Your new saving balance should print."
   ]
  },
  {
   "cell_type": "code",
   "execution_count": 21,
   "metadata": {
    "ExecuteTime": {
     "end_time": "2020-07-15T13:51:28.658736Z",
     "start_time": "2020-07-15T13:51:28.655284Z"
    }
   },
   "outputs": [
    {
     "name": "stdout",
     "output_type": "stream",
     "text": [
      "Your savings balance is 5.\n",
      "\n"
     ]
    }
   ],
   "source": [
    "#check savings balance call after deposit\n",
    "print(check_balance(\"savings\",checking_balance,savings_balance))"
   ]
  },
  {
   "cell_type": "markdown",
   "metadata": {},
   "source": [
    "### 22. Conclusion\n",
    "\n",
    "Congrats on completing a simple Python for Finance off-platform project. Feel free to change the variables to test the different possible outcomes. "
   ]
  }
 ],
 "metadata": {
  "kernelspec": {
   "display_name": "Python 3",
   "language": "python",
   "name": "python3"
  },
  "language_info": {
   "codemirror_mode": {
    "name": "ipython",
    "version": 3
   },
   "file_extension": ".py",
   "mimetype": "text/x-python",
   "name": "python",
   "nbconvert_exporter": "python",
   "pygments_lexer": "ipython3",
   "version": "3.6.5"
  },
  "latex_envs": {
   "LaTeX_envs_menu_present": true,
   "autoclose": false,
   "autocomplete": true,
   "bibliofile": "biblio.bib",
   "cite_by": "apalike",
   "current_citInitial": 1,
   "eqLabelWithNumbers": true,
   "eqNumInitial": 1,
   "hotkeys": {
    "equation": "Ctrl-E",
    "itemize": "Ctrl-I"
   },
   "labels_anchors": false,
   "latex_user_defs": false,
   "report_style_numbering": false,
   "user_envs_cfg": false
  }
 },
 "nbformat": 4,
 "nbformat_minor": 2
}
